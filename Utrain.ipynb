{
  "nbformat": 4,
  "nbformat_minor": 0,
  "metadata": {
    "accelerator": "GPU",
    "colab": {
      "name": "Utrain.ipynb",
      "provenance": [],
      "collapsed_sections": [],
      "machine_shape": "hm"
    },
    "kernelspec": {
      "display_name": "Python 3",
      "language": "python",
      "name": "python3"
    },
    "language_info": {
      "codemirror_mode": {
        "name": "ipython",
        "version": 3
      },
      "file_extension": ".py",
      "mimetype": "text/x-python",
      "name": "python",
      "nbconvert_exporter": "python",
      "pygments_lexer": "ipython3",
      "version": "3.8.5"
    }
  },
  "cells": [
    {
      "cell_type": "code",
      "metadata": {
        "id": "oDS2UytnFjf0"
      },
      "source": [
        "%%capture\n",
        "!pip install nussl\n",
        "!pip install tensorflow\n",
        "import numpy as np\n",
        "import librosa\n",
        "import tensorflow as tf\n",
        "import IPython.display as ipd\n",
        "import IPython\n",
        "import librosa.display\n",
        "from tensorflow.keras import datasets, layers, models\n",
        "from tensorflow.keras.optimizers import SGD\n",
        "import matplotlib.pyplot as plt\n",
        "import torch\n",
        "from torch import nn\n",
        "import nussl"
      ],
      "execution_count": 1,
      "outputs": []
    },
    {
      "cell_type": "code",
      "metadata": {
        "colab": {
          "base_uri": "https://localhost:8080/"
        },
        "id": "ERjAay-cFjo8",
        "outputId": "7cfacac9-a4fa-4ec4-99c7-b01ca21e06c3"
      },
      "source": [
        "from google.colab import drive\n",
        "drive.mount('/content/drive')"
      ],
      "execution_count": 2,
      "outputs": [
        {
          "output_type": "stream",
          "text": [
            "Mounted at /content/drive\n"
          ],
          "name": "stdout"
        }
      ]
    },
    {
      "cell_type": "code",
      "metadata": {
        "id": "b-Vu-fsJFjrc",
        "colab": {
          "base_uri": "https://localhost:8080/"
        },
        "outputId": "2d21e971-f9f6-40d2-fc07-29cd9694b796"
      },
      "source": [
        "musdb = nussl.datasets.MUSDB18(download=True)"
      ],
      "execution_count": 3,
      "outputs": [
        {
          "output_type": "stream",
          "text": [
            "Downloading MUSDB 7s Sample Dataset to /root/.nussl/musdb18...\n",
            "Done!\n"
          ],
          "name": "stdout"
        }
      ]
    },
    {
      "cell_type": "code",
      "metadata": {
        "id": "G83f-BQAFjt8"
      },
      "source": [
        "mixture, drum, bass, rest, vocal = 0, 1, 2, 3, 4\n",
        "hop_length = 768\n",
        "window_length = 1024\n",
        "srate = 44100\n",
        "frame_size = 128\n",
        "slice_hopsize = 8#np.int(128/8)\n",
        "train_size = np.int(len(musdb)*0.7)"
      ],
      "execution_count": 4,
      "outputs": []
    },
    {
      "cell_type": "code",
      "metadata": {
        "id": "xWydbzx3YXK2"
      },
      "source": [
        "def min_max_norm(data):\n",
        "  min, max = np.min(data), np.max(data)\n",
        "  return (data-min)/(max-min)"
      ],
      "execution_count": 5,
      "outputs": []
    },
    {
      "cell_type": "code",
      "metadata": {
        "id": "FXb2pGsVFjwM"
      },
      "source": [
        "def get_softmask(item):\n",
        "  representation = np.abs(item['mix'].stft(hop_length=hop_length, window_length=window_length,window_type='hann' ))\n",
        "  vocals_representation = np.abs(item['sources']['vocals'].stft(hop_length=hop_length, window_length=window_length, \n",
        "                                  window_type='hann' ))\n",
        "  mask = vocals_representation / (np.maximum(vocals_representation, representation) + 1e-8)\n",
        "  \n",
        "  return mask"
      ],
      "execution_count": 6,
      "outputs": []
    },
    {
      "cell_type": "code",
      "metadata": {
        "id": "xXVNW9jrFjym"
      },
      "source": [
        "def get_binarymask(item):\n",
        "  mask = get_softmask(item)\n",
        "\n",
        "  mask[mask>0.5]=1\n",
        "  mask[mask<=0.5] = 0\n",
        "  return mask"
      ],
      "execution_count": 7,
      "outputs": []
    },
    {
      "cell_type": "code",
      "metadata": {
        "id": "1L6OCdb-Fj3G"
      },
      "source": [
        "def slice(spec, mask, frame_size):\n",
        "\n",
        "  left_spec = spec[...,0][0:512,:]\n",
        "  right_spec = spec[...,1][0:512,:]\n",
        "\n",
        "  left_mask = mask[...,0][0:512,:]\n",
        "  right_mask = mask[...,1][0:512,:]\n",
        "\n",
        "  X = []\n",
        "  y = []\n",
        "  length = spec.shape[1]\n",
        "  for i in range(0, length-frame_size, slice_hopsize):\n",
        "    X.append(left_spec[...,i:i+frame_size])\n",
        "    X.append(right_spec[...,i:i+frame_size])\n",
        "\n",
        "  for i in range(0, length-frame_size, slice_hopsize):\n",
        "    y.append(left_mask[..., i:i+frame_size])\n",
        "    y.append(right_mask[..., i:i+frame_size])\n",
        "  \n",
        "  X = np.array(np.stack(X))\n",
        "  y = np.array(np.stack(y))\n",
        "\n",
        "  return X, y"
      ],
      "execution_count": 8,
      "outputs": []
    },
    {
      "cell_type": "code",
      "metadata": {
        "id": "s-Q3UJCQF4K0"
      },
      "source": [
        "def get_dataset():\n",
        "  X_train = []\n",
        "  y_train = []\n",
        "  \n",
        "  for i in range(train_size):\n",
        "    print(i, end=' ')\n",
        "    if i%30 == 29:\n",
        "      print()\n",
        "\n",
        "    track = musdb[i]\n",
        "    mixture_spec = np.abs(track['mix'].stft(hop_length=hop_length, \n",
        "                          window_length=window_length,window_type='hann' ))\n",
        "\n",
        "    mixture_spec_db = librosa.amplitude_to_db(mixture_spec)\n",
        "\n",
        "    mask = get_binarymask(track)\n",
        "\n",
        "    X, y = slice(mixture_spec_db, mask, frame_size)\n",
        "    X_train.extend(X)\n",
        "    y_train.extend(y)\n",
        "\n",
        "  X_train = np.array(np.stack(X_train)).reshape(-1, 512, 128, 1)\n",
        "  y_train = np.array(np.stack(y_train))\n",
        "\n",
        "  return X_train, y_train"
      ],
      "execution_count": 9,
      "outputs": []
    },
    {
      "cell_type": "code",
      "metadata": {
        "id": "fjbxICCLF4cC",
        "colab": {
          "base_uri": "https://localhost:8080/"
        },
        "outputId": "e571ac16-6e4c-42c1-de1e-91580acd5287"
      },
      "source": [
        "X_train, y_train = get_dataset()\n",
        "print()\n",
        "print(X_train.shape)\n",
        "print(y_train.shape)"
      ],
      "execution_count": 10,
      "outputs": [
        {
          "output_type": "stream",
          "text": [
            "0 1 2 3 4 5 6 7 8 9 10 11 12 13 14 15 16 17 18 19 20 21 22 23 24 25 26 27 28 29 \n",
            "30 31 32 33 34 35 36 37 38 39 40 41 42 43 44 45 46 47 48 49 50 51 52 53 54 55 56 57 58 59 \n",
            "60 61 62 63 64 65 66 67 68 69 70 71 72 73 74 75 76 77 78 79 80 81 82 83 84 85 86 87 88 89 \n",
            "90 91 92 93 94 95 96 97 98 99 \n",
            "(6600, 512, 128, 1)\n",
            "(6600, 512, 128)\n"
          ],
          "name": "stdout"
        }
      ]
    },
    {
      "cell_type": "code",
      "metadata": {
        "colab": {
          "base_uri": "https://localhost:8080/"
        },
        "id": "Zg2JFUIlXehx",
        "outputId": "9468f5d1-5d3c-4323-beef-1c844d4f2f94"
      },
      "source": [
        "X_train = min_max_norm(X_train)\n",
        "print(X_train.shape)\n",
        "print(np.min(X_train), np.max(X_train))"
      ],
      "execution_count": 11,
      "outputs": [
        {
          "output_type": "stream",
          "text": [
            "(6600, 512, 128, 1)\n",
            "0.0 1.0\n"
          ],
          "name": "stdout"
        }
      ]
    },
    {
      "cell_type": "code",
      "metadata": {
        "colab": {
          "base_uri": "https://localhost:8080/"
        },
        "id": "7Kj9M1dGhelw",
        "outputId": "60325d50-ab86-4195-8af9-39ae1256df06"
      },
      "source": [
        "def UNet():\n",
        "    inputs = layers.Input((512, 128, 1))\n",
        "    \n",
        "    conv1 = layers.Conv2D(16, (5,5), padding='same', \n",
        "                      strides=2, activation=layers.LeakyReLU(0.2), name='conv1')(inputs)\n",
        "    batch1 = layers.BatchNormalization(axis=-1)(conv1)\n",
        "    conv2 = layers.Conv2D(32, (5,5), padding='same', \n",
        "                      strides=2, activation=layers.LeakyReLU(0.2), name='conv2')(batch1)\n",
        "    batch2 = layers.BatchNormalization(axis=-1)(conv2)\n",
        "    conv3 = layers.Conv2D(64, (5,5), padding='same', \n",
        "                      strides=2, activation=layers.LeakyReLU(0.2), name='conv3')(batch2)\n",
        "    batch3 = layers.BatchNormalization(axis=-1)(conv3)\n",
        "    conv4 = layers.Conv2D(128, (5,5), padding='same', \n",
        "                      strides=2, activation=layers.LeakyReLU(0.2), name='conv4')(batch3)\n",
        "    batch4 = layers.BatchNormalization(axis=-1)(conv4)\n",
        "    conv5 = layers.Conv2D(256, (5,5), padding='same', \n",
        "                      strides=2, activation=layers.LeakyReLU(0.2), name='conv5')(batch4)\n",
        "    batch5 = layers.BatchNormalization(axis=-1)(conv5)\n",
        "    bottleneck = layers.Conv2D(512, (5,5), padding='same', \n",
        "                      strides=2, activation=layers.LeakyReLU(0.2), name='bottleneck')(batch5)\n",
        "    deconv5 = layers.Conv2DTranspose(256, (5,5), padding='same', \n",
        "                      strides=2, activation='relu', name='deconv5')(bottleneck)\n",
        "    drop1 = layers.Dropout(0.5)(deconv5)\n",
        "    concat5 = layers.concatenate([drop1, conv5], axis=-1)\n",
        "    batch6 = layers.BatchNormalization(axis=-1)(concat5)\n",
        "    \n",
        "    deconv4 = layers.Conv2DTranspose(128, (5,5), padding='same', \n",
        "                      strides=2, activation='relu', name='deconv4')(batch6)\n",
        "    \n",
        "    drop2 = layers.Dropout(0.5)(deconv4)\n",
        "    concat4 = layers.concatenate([drop2, conv4], axis=-1)\n",
        "    batch7 = layers.BatchNormalization(axis=-1)(concat4)\n",
        "    deconv3 = layers.Conv2DTranspose(64, (5,5), padding='same', \n",
        "                      strides=2, activation='relu', name='deconv3')(batch7)\n",
        "    \n",
        "    drop3 = layers.Dropout(0.5)(deconv3)\n",
        "    concat3 = layers.concatenate([drop3, conv3], axis=-1)\n",
        "    batch8 = layers.BatchNormalization(axis=-1)(concat3)\n",
        "    deconv2 = layers.Conv2DTranspose(32, (5,5), padding='same', \n",
        "                      strides=2, activation='relu', name='deconv2')(batch8)\n",
        "\n",
        "    concat2 = layers.concatenate([deconv2, conv2], axis=-1)\n",
        "    batch9 = layers.BatchNormalization(axis=-1)(concat2)\n",
        "\n",
        "    deconv1 = layers.Conv2DTranspose(16, (5,5), padding='same', \n",
        "                      strides=2, activation='relu', name='deconv1')(batch9)\n",
        "\n",
        "    batch10 = layers.BatchNormalization(axis=-1)(deconv1)\n",
        "    concat1 = layers.concatenate([deconv1, conv1], axis=-1)\n",
        "\n",
        "    batch11 = layers.BatchNormalization(axis=-1)(concat1)\n",
        "    outputs = layers.Conv2DTranspose(1, (5, 5), strides=2, padding=\"same\", \n",
        "                      activation=\"sigmoid\", name='output')(batch11)\n",
        "    model = models.Model(inputs, outputs)\n",
        "    print(model.summary())\n",
        "    return model\n",
        "unet = UNet()\n",
        "unet.compile(optimizer=tf.keras.optimizers.Adam(learning_rate=0.01),loss='BinaryCrossentropy',\n",
        "                 metrics=[tf.keras.metrics.BinaryAccuracy(threshold=0.5)])"
      ],
      "execution_count": 12,
      "outputs": [
        {
          "output_type": "stream",
          "text": [
            "Model: \"model\"\n",
            "__________________________________________________________________________________________________\n",
            "Layer (type)                    Output Shape         Param #     Connected to                     \n",
            "==================================================================================================\n",
            "input_1 (InputLayer)            [(None, 512, 128, 1) 0                                            \n",
            "__________________________________________________________________________________________________\n",
            "conv1 (Conv2D)                  (None, 256, 64, 16)  416         input_1[0][0]                    \n",
            "__________________________________________________________________________________________________\n",
            "batch_normalization (BatchNorma (None, 256, 64, 16)  64          conv1[0][0]                      \n",
            "__________________________________________________________________________________________________\n",
            "conv2 (Conv2D)                  (None, 128, 32, 32)  12832       batch_normalization[0][0]        \n",
            "__________________________________________________________________________________________________\n",
            "batch_normalization_1 (BatchNor (None, 128, 32, 32)  128         conv2[0][0]                      \n",
            "__________________________________________________________________________________________________\n",
            "conv3 (Conv2D)                  (None, 64, 16, 64)   51264       batch_normalization_1[0][0]      \n",
            "__________________________________________________________________________________________________\n",
            "batch_normalization_2 (BatchNor (None, 64, 16, 64)   256         conv3[0][0]                      \n",
            "__________________________________________________________________________________________________\n",
            "conv4 (Conv2D)                  (None, 32, 8, 128)   204928      batch_normalization_2[0][0]      \n",
            "__________________________________________________________________________________________________\n",
            "batch_normalization_3 (BatchNor (None, 32, 8, 128)   512         conv4[0][0]                      \n",
            "__________________________________________________________________________________________________\n",
            "conv5 (Conv2D)                  (None, 16, 4, 256)   819456      batch_normalization_3[0][0]      \n",
            "__________________________________________________________________________________________________\n",
            "batch_normalization_4 (BatchNor (None, 16, 4, 256)   1024        conv5[0][0]                      \n",
            "__________________________________________________________________________________________________\n",
            "bottleneck (Conv2D)             (None, 8, 2, 512)    3277312     batch_normalization_4[0][0]      \n",
            "__________________________________________________________________________________________________\n",
            "deconv5 (Conv2DTranspose)       (None, 16, 4, 256)   3277056     bottleneck[0][0]                 \n",
            "__________________________________________________________________________________________________\n",
            "dropout (Dropout)               (None, 16, 4, 256)   0           deconv5[0][0]                    \n",
            "__________________________________________________________________________________________________\n",
            "concatenate (Concatenate)       (None, 16, 4, 512)   0           dropout[0][0]                    \n",
            "                                                                 conv5[0][0]                      \n",
            "__________________________________________________________________________________________________\n",
            "batch_normalization_5 (BatchNor (None, 16, 4, 512)   2048        concatenate[0][0]                \n",
            "__________________________________________________________________________________________________\n",
            "deconv4 (Conv2DTranspose)       (None, 32, 8, 128)   1638528     batch_normalization_5[0][0]      \n",
            "__________________________________________________________________________________________________\n",
            "dropout_1 (Dropout)             (None, 32, 8, 128)   0           deconv4[0][0]                    \n",
            "__________________________________________________________________________________________________\n",
            "concatenate_1 (Concatenate)     (None, 32, 8, 256)   0           dropout_1[0][0]                  \n",
            "                                                                 conv4[0][0]                      \n",
            "__________________________________________________________________________________________________\n",
            "batch_normalization_6 (BatchNor (None, 32, 8, 256)   1024        concatenate_1[0][0]              \n",
            "__________________________________________________________________________________________________\n",
            "deconv3 (Conv2DTranspose)       (None, 64, 16, 64)   409664      batch_normalization_6[0][0]      \n",
            "__________________________________________________________________________________________________\n",
            "dropout_2 (Dropout)             (None, 64, 16, 64)   0           deconv3[0][0]                    \n",
            "__________________________________________________________________________________________________\n",
            "concatenate_2 (Concatenate)     (None, 64, 16, 128)  0           dropout_2[0][0]                  \n",
            "                                                                 conv3[0][0]                      \n",
            "__________________________________________________________________________________________________\n",
            "batch_normalization_7 (BatchNor (None, 64, 16, 128)  512         concatenate_2[0][0]              \n",
            "__________________________________________________________________________________________________\n",
            "deconv2 (Conv2DTranspose)       (None, 128, 32, 32)  102432      batch_normalization_7[0][0]      \n",
            "__________________________________________________________________________________________________\n",
            "concatenate_3 (Concatenate)     (None, 128, 32, 64)  0           deconv2[0][0]                    \n",
            "                                                                 conv2[0][0]                      \n",
            "__________________________________________________________________________________________________\n",
            "batch_normalization_8 (BatchNor (None, 128, 32, 64)  256         concatenate_3[0][0]              \n",
            "__________________________________________________________________________________________________\n",
            "deconv1 (Conv2DTranspose)       (None, 256, 64, 16)  25616       batch_normalization_8[0][0]      \n",
            "__________________________________________________________________________________________________\n",
            "concatenate_4 (Concatenate)     (None, 256, 64, 32)  0           deconv1[0][0]                    \n",
            "                                                                 conv1[0][0]                      \n",
            "__________________________________________________________________________________________________\n",
            "batch_normalization_10 (BatchNo (None, 256, 64, 32)  128         concatenate_4[0][0]              \n",
            "__________________________________________________________________________________________________\n",
            "output (Conv2DTranspose)        (None, 512, 128, 1)  801         batch_normalization_10[0][0]     \n",
            "==================================================================================================\n",
            "Total params: 9,826,257\n",
            "Trainable params: 9,823,281\n",
            "Non-trainable params: 2,976\n",
            "__________________________________________________________________________________________________\n",
            "None\n"
          ],
          "name": "stdout"
        }
      ]
    },
    {
      "cell_type": "code",
      "metadata": {
        "colab": {
          "base_uri": "https://localhost:8080/"
        },
        "id": "-RdxST_t87zl",
        "outputId": "79725eeb-7c3c-4607-a2b9-73c821ca0eaa"
      },
      "source": [
        "history = unet.fit(X_train, y_train, validation_split=0.33, epochs=100)\n",
        "unet.save('/content/drive/My Drive/Umodels/'+'final')"
      ],
      "execution_count": 13,
      "outputs": [
        {
          "output_type": "stream",
          "text": [
            "Epoch 1/100\n",
            "139/139 [==============================] - 25s 54ms/step - loss: 0.6376 - binary_accuracy: 0.6382 - val_loss: 0.7761 - val_binary_accuracy: 0.4928\n",
            "Epoch 2/100\n",
            "139/139 [==============================] - 6s 46ms/step - loss: 0.5877 - binary_accuracy: 0.6959 - val_loss: 1.1351 - val_binary_accuracy: 0.4930\n",
            "Epoch 3/100\n",
            "139/139 [==============================] - 6s 46ms/step - loss: 0.5542 - binary_accuracy: 0.7218 - val_loss: 0.6642 - val_binary_accuracy: 0.6326\n",
            "Epoch 4/100\n",
            "139/139 [==============================] - 6s 46ms/step - loss: 0.5287 - binary_accuracy: 0.7403 - val_loss: 0.6642 - val_binary_accuracy: 0.6460\n",
            "Epoch 5/100\n",
            "139/139 [==============================] - 6s 46ms/step - loss: 0.5083 - binary_accuracy: 0.7550 - val_loss: 0.6373 - val_binary_accuracy: 0.6663\n",
            "Epoch 6/100\n",
            "139/139 [==============================] - 6s 46ms/step - loss: 0.4873 - binary_accuracy: 0.7691 - val_loss: 0.6620 - val_binary_accuracy: 0.6740\n",
            "Epoch 7/100\n",
            "139/139 [==============================] - 6s 46ms/step - loss: 0.4795 - binary_accuracy: 0.7748 - val_loss: 0.6184 - val_binary_accuracy: 0.6846\n",
            "Epoch 8/100\n",
            "139/139 [==============================] - 6s 46ms/step - loss: 0.4624 - binary_accuracy: 0.7851 - val_loss: 0.6314 - val_binary_accuracy: 0.6854\n",
            "Epoch 9/100\n",
            "139/139 [==============================] - 6s 46ms/step - loss: 0.4530 - binary_accuracy: 0.7910 - val_loss: 0.6752 - val_binary_accuracy: 0.6929\n",
            "Epoch 10/100\n",
            "139/139 [==============================] - 6s 46ms/step - loss: 0.4465 - binary_accuracy: 0.7951 - val_loss: 0.7351 - val_binary_accuracy: 0.6476\n",
            "Epoch 11/100\n",
            "139/139 [==============================] - 6s 46ms/step - loss: 0.4400 - binary_accuracy: 0.7988 - val_loss: 0.6379 - val_binary_accuracy: 0.6877\n",
            "Epoch 12/100\n",
            "139/139 [==============================] - 6s 46ms/step - loss: 0.4312 - binary_accuracy: 0.8041 - val_loss: 0.6589 - val_binary_accuracy: 0.6913\n",
            "Epoch 13/100\n",
            "139/139 [==============================] - 6s 46ms/step - loss: 0.4289 - binary_accuracy: 0.8051 - val_loss: 0.6485 - val_binary_accuracy: 0.6878\n",
            "Epoch 14/100\n",
            "139/139 [==============================] - 6s 46ms/step - loss: 0.4261 - binary_accuracy: 0.8067 - val_loss: 0.6452 - val_binary_accuracy: 0.6908\n",
            "Epoch 15/100\n",
            "139/139 [==============================] - 6s 46ms/step - loss: 0.4224 - binary_accuracy: 0.8088 - val_loss: 0.6437 - val_binary_accuracy: 0.6894\n",
            "Epoch 16/100\n",
            "139/139 [==============================] - 6s 46ms/step - loss: 0.4192 - binary_accuracy: 0.8106 - val_loss: 0.7715 - val_binary_accuracy: 0.6186\n",
            "Epoch 17/100\n",
            "139/139 [==============================] - 6s 46ms/step - loss: 0.4266 - binary_accuracy: 0.8068 - val_loss: 0.6394 - val_binary_accuracy: 0.6939\n",
            "Epoch 18/100\n",
            "139/139 [==============================] - 6s 46ms/step - loss: 0.4176 - binary_accuracy: 0.8114 - val_loss: 0.6404 - val_binary_accuracy: 0.6904\n",
            "Epoch 19/100\n",
            "139/139 [==============================] - 6s 46ms/step - loss: 0.4146 - binary_accuracy: 0.8133 - val_loss: 0.6681 - val_binary_accuracy: 0.6674\n",
            "Epoch 20/100\n",
            "139/139 [==============================] - 6s 46ms/step - loss: 0.4138 - binary_accuracy: 0.8137 - val_loss: 0.6569 - val_binary_accuracy: 0.6869\n",
            "Epoch 21/100\n",
            "139/139 [==============================] - 6s 46ms/step - loss: 0.4111 - binary_accuracy: 0.8153 - val_loss: 0.6443 - val_binary_accuracy: 0.6909\n",
            "Epoch 22/100\n",
            "139/139 [==============================] - 6s 46ms/step - loss: 0.4115 - binary_accuracy: 0.8150 - val_loss: 0.6566 - val_binary_accuracy: 0.6893\n",
            "Epoch 23/100\n",
            "139/139 [==============================] - 6s 46ms/step - loss: 0.4097 - binary_accuracy: 0.8161 - val_loss: 0.6427 - val_binary_accuracy: 0.6926\n",
            "Epoch 24/100\n",
            "139/139 [==============================] - 6s 46ms/step - loss: 0.4105 - binary_accuracy: 0.8156 - val_loss: 0.6464 - val_binary_accuracy: 0.6909\n",
            "Epoch 25/100\n",
            "139/139 [==============================] - 6s 46ms/step - loss: 0.4076 - binary_accuracy: 0.8170 - val_loss: 0.6426 - val_binary_accuracy: 0.6900\n",
            "Epoch 26/100\n",
            "139/139 [==============================] - 6s 46ms/step - loss: 0.4053 - binary_accuracy: 0.8184 - val_loss: 0.6485 - val_binary_accuracy: 0.6908\n",
            "Epoch 27/100\n",
            "139/139 [==============================] - 6s 46ms/step - loss: 0.4057 - binary_accuracy: 0.8181 - val_loss: 0.6538 - val_binary_accuracy: 0.6905\n",
            "Epoch 28/100\n",
            "139/139 [==============================] - 6s 46ms/step - loss: 0.4039 - binary_accuracy: 0.8191 - val_loss: 0.6458 - val_binary_accuracy: 0.6915\n",
            "Epoch 29/100\n",
            "139/139 [==============================] - 6s 46ms/step - loss: 0.4048 - binary_accuracy: 0.8187 - val_loss: 0.6980 - val_binary_accuracy: 0.6603\n",
            "Epoch 30/100\n",
            "139/139 [==============================] - 6s 46ms/step - loss: 0.4043 - binary_accuracy: 0.8190 - val_loss: 0.6836 - val_binary_accuracy: 0.6911\n",
            "Epoch 31/100\n",
            "139/139 [==============================] - 6s 46ms/step - loss: 0.4006 - binary_accuracy: 0.8208 - val_loss: 0.6604 - val_binary_accuracy: 0.6827\n",
            "Epoch 32/100\n",
            "139/139 [==============================] - 6s 46ms/step - loss: 0.4023 - binary_accuracy: 0.8201 - val_loss: 0.6673 - val_binary_accuracy: 0.6908\n",
            "Epoch 33/100\n",
            "139/139 [==============================] - 6s 46ms/step - loss: 0.3994 - binary_accuracy: 0.8215 - val_loss: 0.6568 - val_binary_accuracy: 0.6877\n",
            "Epoch 34/100\n",
            "139/139 [==============================] - 6s 46ms/step - loss: 0.3997 - binary_accuracy: 0.8213 - val_loss: 0.6841 - val_binary_accuracy: 0.6874\n",
            "Epoch 35/100\n",
            "139/139 [==============================] - 6s 46ms/step - loss: 0.3992 - binary_accuracy: 0.8216 - val_loss: 0.6668 - val_binary_accuracy: 0.6916\n",
            "Epoch 36/100\n",
            "139/139 [==============================] - 6s 46ms/step - loss: 0.3979 - binary_accuracy: 0.8222 - val_loss: 0.6734 - val_binary_accuracy: 0.6909\n",
            "Epoch 37/100\n",
            "139/139 [==============================] - 6s 46ms/step - loss: 0.3977 - binary_accuracy: 0.8224 - val_loss: 0.6648 - val_binary_accuracy: 0.6867\n",
            "Epoch 38/100\n",
            "139/139 [==============================] - 6s 46ms/step - loss: 0.3972 - binary_accuracy: 0.8225 - val_loss: 0.6687 - val_binary_accuracy: 0.6908\n",
            "Epoch 39/100\n",
            "139/139 [==============================] - 6s 46ms/step - loss: 0.3969 - binary_accuracy: 0.8228 - val_loss: 0.6685 - val_binary_accuracy: 0.6896\n",
            "Epoch 40/100\n",
            "139/139 [==============================] - 6s 46ms/step - loss: 0.3946 - binary_accuracy: 0.8240 - val_loss: 0.6746 - val_binary_accuracy: 0.6896\n",
            "Epoch 41/100\n",
            "139/139 [==============================] - 6s 46ms/step - loss: 0.3954 - binary_accuracy: 0.8235 - val_loss: 0.6837 - val_binary_accuracy: 0.6757\n",
            "Epoch 42/100\n",
            "139/139 [==============================] - 6s 46ms/step - loss: 0.3953 - binary_accuracy: 0.8235 - val_loss: 0.6931 - val_binary_accuracy: 0.6876\n",
            "Epoch 43/100\n",
            "139/139 [==============================] - 6s 46ms/step - loss: 0.3956 - binary_accuracy: 0.8234 - val_loss: 0.6560 - val_binary_accuracy: 0.6828\n",
            "Epoch 44/100\n",
            "139/139 [==============================] - 6s 46ms/step - loss: 0.3937 - binary_accuracy: 0.8244 - val_loss: 0.6815 - val_binary_accuracy: 0.6860\n",
            "Epoch 45/100\n",
            "139/139 [==============================] - 6s 46ms/step - loss: 0.3928 - binary_accuracy: 0.8248 - val_loss: 0.6564 - val_binary_accuracy: 0.6858\n",
            "Epoch 46/100\n",
            "139/139 [==============================] - 6s 46ms/step - loss: 0.3952 - binary_accuracy: 0.8235 - val_loss: 0.6790 - val_binary_accuracy: 0.6852\n",
            "Epoch 47/100\n",
            "139/139 [==============================] - 6s 46ms/step - loss: 0.3935 - binary_accuracy: 0.8245 - val_loss: 0.6756 - val_binary_accuracy: 0.6893\n",
            "Epoch 48/100\n",
            "139/139 [==============================] - 6s 46ms/step - loss: 0.3942 - binary_accuracy: 0.8242 - val_loss: 0.6695 - val_binary_accuracy: 0.6850\n",
            "Epoch 49/100\n",
            "139/139 [==============================] - 6s 46ms/step - loss: 0.3914 - binary_accuracy: 0.8258 - val_loss: 0.6657 - val_binary_accuracy: 0.6836\n",
            "Epoch 50/100\n",
            "139/139 [==============================] - 6s 46ms/step - loss: 0.3911 - binary_accuracy: 0.8257 - val_loss: 0.6762 - val_binary_accuracy: 0.6818\n",
            "Epoch 51/100\n",
            "139/139 [==============================] - 6s 46ms/step - loss: 0.3926 - binary_accuracy: 0.8253 - val_loss: 0.6776 - val_binary_accuracy: 0.6818\n",
            "Epoch 52/100\n",
            "139/139 [==============================] - 6s 46ms/step - loss: 0.3923 - binary_accuracy: 0.8251 - val_loss: 0.6797 - val_binary_accuracy: 0.6882\n",
            "Epoch 53/100\n",
            "139/139 [==============================] - 6s 46ms/step - loss: 0.3917 - binary_accuracy: 0.8254 - val_loss: 0.6702 - val_binary_accuracy: 0.6846\n",
            "Epoch 54/100\n",
            "139/139 [==============================] - 6s 46ms/step - loss: 0.3922 - binary_accuracy: 0.8254 - val_loss: 0.6847 - val_binary_accuracy: 0.6844\n",
            "Epoch 55/100\n",
            "139/139 [==============================] - 6s 46ms/step - loss: 0.3885 - binary_accuracy: 0.8271 - val_loss: 0.6596 - val_binary_accuracy: 0.6882\n",
            "Epoch 56/100\n",
            "139/139 [==============================] - 6s 46ms/step - loss: 0.3896 - binary_accuracy: 0.8265 - val_loss: 0.6650 - val_binary_accuracy: 0.6825\n",
            "Epoch 57/100\n",
            "139/139 [==============================] - 6s 46ms/step - loss: 0.3905 - binary_accuracy: 0.8260 - val_loss: 0.6714 - val_binary_accuracy: 0.6902\n",
            "Epoch 58/100\n",
            "139/139 [==============================] - 6s 46ms/step - loss: 0.3892 - binary_accuracy: 0.8268 - val_loss: 0.6801 - val_binary_accuracy: 0.6817\n",
            "Epoch 59/100\n",
            "139/139 [==============================] - 6s 46ms/step - loss: 0.3887 - binary_accuracy: 0.8269 - val_loss: 0.6711 - val_binary_accuracy: 0.6903\n",
            "Epoch 60/100\n",
            "139/139 [==============================] - 6s 46ms/step - loss: 0.3899 - binary_accuracy: 0.8263 - val_loss: 0.6767 - val_binary_accuracy: 0.6856\n",
            "Epoch 61/100\n",
            "139/139 [==============================] - 6s 46ms/step - loss: 0.3874 - binary_accuracy: 0.8279 - val_loss: 0.6616 - val_binary_accuracy: 0.6854\n",
            "Epoch 62/100\n",
            "139/139 [==============================] - 6s 46ms/step - loss: 0.3883 - binary_accuracy: 0.8275 - val_loss: 0.6626 - val_binary_accuracy: 0.6867\n",
            "Epoch 63/100\n",
            "139/139 [==============================] - 6s 46ms/step - loss: 0.3888 - binary_accuracy: 0.8272 - val_loss: 0.6841 - val_binary_accuracy: 0.6878\n",
            "Epoch 64/100\n",
            "139/139 [==============================] - 6s 46ms/step - loss: 0.3906 - binary_accuracy: 0.8259 - val_loss: 0.6720 - val_binary_accuracy: 0.6876\n",
            "Epoch 65/100\n",
            "139/139 [==============================] - 6s 46ms/step - loss: 0.3878 - binary_accuracy: 0.8276 - val_loss: 0.6867 - val_binary_accuracy: 0.6837\n",
            "Epoch 66/100\n",
            "139/139 [==============================] - 6s 46ms/step - loss: 0.3864 - binary_accuracy: 0.8282 - val_loss: 0.6780 - val_binary_accuracy: 0.6871\n",
            "Epoch 67/100\n",
            "139/139 [==============================] - 6s 46ms/step - loss: 0.3876 - binary_accuracy: 0.8275 - val_loss: 0.6803 - val_binary_accuracy: 0.6853\n",
            "Epoch 68/100\n",
            "139/139 [==============================] - 6s 46ms/step - loss: 0.3876 - binary_accuracy: 0.8277 - val_loss: 0.6791 - val_binary_accuracy: 0.6827\n",
            "Epoch 69/100\n",
            "139/139 [==============================] - 6s 46ms/step - loss: 0.3877 - binary_accuracy: 0.8277 - val_loss: 0.6796 - val_binary_accuracy: 0.6861\n",
            "Epoch 70/100\n",
            "139/139 [==============================] - 6s 46ms/step - loss: 0.3868 - binary_accuracy: 0.8282 - val_loss: 0.6751 - val_binary_accuracy: 0.6861\n",
            "Epoch 71/100\n",
            "139/139 [==============================] - 6s 46ms/step - loss: 0.3861 - binary_accuracy: 0.8285 - val_loss: 0.6954 - val_binary_accuracy: 0.6840\n",
            "Epoch 72/100\n",
            "139/139 [==============================] - 6s 46ms/step - loss: 0.3870 - binary_accuracy: 0.8280 - val_loss: 0.7109 - val_binary_accuracy: 0.6864\n",
            "Epoch 73/100\n",
            "139/139 [==============================] - 6s 46ms/step - loss: 0.3883 - binary_accuracy: 0.8272 - val_loss: 0.6679 - val_binary_accuracy: 0.6816\n",
            "Epoch 74/100\n",
            "139/139 [==============================] - 6s 46ms/step - loss: 0.3864 - binary_accuracy: 0.8283 - val_loss: 0.6883 - val_binary_accuracy: 0.6841\n",
            "Epoch 75/100\n",
            "139/139 [==============================] - 6s 46ms/step - loss: 0.3855 - binary_accuracy: 0.8289 - val_loss: 0.6892 - val_binary_accuracy: 0.6875\n",
            "Epoch 76/100\n",
            "139/139 [==============================] - 6s 46ms/step - loss: 0.3854 - binary_accuracy: 0.8287 - val_loss: 0.6822 - val_binary_accuracy: 0.6814\n",
            "Epoch 77/100\n",
            "139/139 [==============================] - 6s 46ms/step - loss: 0.3862 - binary_accuracy: 0.8285 - val_loss: 0.6750 - val_binary_accuracy: 0.6882\n",
            "Epoch 78/100\n",
            "139/139 [==============================] - 6s 46ms/step - loss: 0.3840 - binary_accuracy: 0.8296 - val_loss: 0.6808 - val_binary_accuracy: 0.6847\n",
            "Epoch 79/100\n",
            "139/139 [==============================] - 6s 46ms/step - loss: 0.3856 - binary_accuracy: 0.8287 - val_loss: 0.6848 - val_binary_accuracy: 0.6874\n",
            "Epoch 80/100\n",
            "139/139 [==============================] - 6s 46ms/step - loss: 0.3842 - binary_accuracy: 0.8294 - val_loss: 0.6699 - val_binary_accuracy: 0.6836\n",
            "Epoch 81/100\n",
            "139/139 [==============================] - 6s 46ms/step - loss: 0.3841 - binary_accuracy: 0.8296 - val_loss: 0.6713 - val_binary_accuracy: 0.6878\n",
            "Epoch 82/100\n",
            "139/139 [==============================] - 6s 46ms/step - loss: 0.3850 - binary_accuracy: 0.8290 - val_loss: 0.6799 - val_binary_accuracy: 0.6863\n",
            "Epoch 83/100\n",
            "139/139 [==============================] - 6s 46ms/step - loss: 0.3832 - binary_accuracy: 0.8297 - val_loss: 0.6806 - val_binary_accuracy: 0.6833\n",
            "Epoch 84/100\n",
            "139/139 [==============================] - 6s 46ms/step - loss: 0.3850 - binary_accuracy: 0.8291 - val_loss: 0.7066 - val_binary_accuracy: 0.6870\n",
            "Epoch 85/100\n",
            "139/139 [==============================] - 6s 46ms/step - loss: 0.3856 - binary_accuracy: 0.8286 - val_loss: 0.6796 - val_binary_accuracy: 0.6828\n",
            "Epoch 86/100\n",
            "139/139 [==============================] - 6s 46ms/step - loss: 0.3854 - binary_accuracy: 0.8289 - val_loss: 0.6810 - val_binary_accuracy: 0.6875\n",
            "Epoch 87/100\n",
            "139/139 [==============================] - 6s 46ms/step - loss: 0.3840 - binary_accuracy: 0.8297 - val_loss: 0.6934 - val_binary_accuracy: 0.6884\n",
            "Epoch 88/100\n",
            "139/139 [==============================] - 6s 46ms/step - loss: 0.3830 - binary_accuracy: 0.8301 - val_loss: 0.6957 - val_binary_accuracy: 0.6859\n",
            "Epoch 89/100\n",
            "139/139 [==============================] - 6s 46ms/step - loss: 0.3852 - binary_accuracy: 0.8288 - val_loss: 0.6773 - val_binary_accuracy: 0.6852\n",
            "Epoch 90/100\n",
            "139/139 [==============================] - 6s 46ms/step - loss: 0.3841 - binary_accuracy: 0.8296 - val_loss: 0.6855 - val_binary_accuracy: 0.6792\n",
            "Epoch 91/100\n",
            "139/139 [==============================] - 6s 46ms/step - loss: 0.3843 - binary_accuracy: 0.8294 - val_loss: 0.6817 - val_binary_accuracy: 0.6866\n",
            "Epoch 92/100\n",
            "139/139 [==============================] - 6s 46ms/step - loss: 0.3832 - binary_accuracy: 0.8300 - val_loss: 0.6910 - val_binary_accuracy: 0.6834\n",
            "Epoch 93/100\n",
            "139/139 [==============================] - 6s 46ms/step - loss: 0.3839 - binary_accuracy: 0.8297 - val_loss: 0.6773 - val_binary_accuracy: 0.6843\n",
            "Epoch 94/100\n",
            "139/139 [==============================] - 6s 46ms/step - loss: 0.3857 - binary_accuracy: 0.8288 - val_loss: 0.6769 - val_binary_accuracy: 0.6850\n",
            "Epoch 95/100\n",
            "139/139 [==============================] - 6s 46ms/step - loss: 0.3826 - binary_accuracy: 0.8302 - val_loss: 0.6686 - val_binary_accuracy: 0.6823\n",
            "Epoch 96/100\n",
            "139/139 [==============================] - 6s 46ms/step - loss: 0.3842 - binary_accuracy: 0.8295 - val_loss: 0.6773 - val_binary_accuracy: 0.6856\n",
            "Epoch 97/100\n",
            "139/139 [==============================] - 6s 46ms/step - loss: 0.3827 - binary_accuracy: 0.8305 - val_loss: 0.6804 - val_binary_accuracy: 0.6822\n",
            "Epoch 98/100\n",
            "139/139 [==============================] - 6s 46ms/step - loss: 0.3835 - binary_accuracy: 0.8298 - val_loss: 0.6878 - val_binary_accuracy: 0.6830\n",
            "Epoch 99/100\n",
            "139/139 [==============================] - 6s 46ms/step - loss: 0.3824 - binary_accuracy: 0.8302 - val_loss: 0.6759 - val_binary_accuracy: 0.6847\n",
            "Epoch 100/100\n",
            "139/139 [==============================] - 6s 46ms/step - loss: 0.3801 - binary_accuracy: 0.8316 - val_loss: 0.6662 - val_binary_accuracy: 0.6858\n"
          ],
          "name": "stdout"
        },
        {
          "output_type": "stream",
          "text": [
            "WARNING:absl:Found untraced functions such as leaky_re_lu_layer_call_and_return_conditional_losses, leaky_re_lu_layer_call_fn, leaky_re_lu_1_layer_call_and_return_conditional_losses, leaky_re_lu_1_layer_call_fn, leaky_re_lu_2_layer_call_and_return_conditional_losses while saving (showing 5 of 30). These functions will not be directly callable after loading.\n",
            "WARNING:absl:Found untraced functions such as leaky_re_lu_layer_call_and_return_conditional_losses, leaky_re_lu_layer_call_fn, leaky_re_lu_1_layer_call_and_return_conditional_losses, leaky_re_lu_1_layer_call_fn, leaky_re_lu_2_layer_call_and_return_conditional_losses while saving (showing 5 of 30). These functions will not be directly callable after loading.\n",
            "INFO:tensorflow:Assets written to: /content/drive/My Drive/Umodels/final/assets\n"
          ],
          "name": "stderr"
        }
      ]
    },
    {
      "cell_type": "code",
      "metadata": {
        "colab": {
          "base_uri": "https://localhost:8080/",
          "height": 638
        },
        "id": "Hyd6VVgXF4ny",
        "outputId": "5c471a37-085b-4143-d8c7-eda7a8815a3c"
      },
      "source": [
        "plt.figure(figsize=(20, 10))\n",
        "plt.plot(history.history['binary_accuracy'][0:100], label='accuracy')\n",
        "plt.plot(history.history['val_binary_accuracy'][0:100], label = 'val_accuracy')\n",
        "plt.xlabel('Epoch')\n",
        "plt.ylabel('Accuracy and Loss')\n",
        "plt.ylim([0.0, 1.0])\n",
        "plt.title(\"Second CNN\")\n",
        "plt.legend(['train', 'valid'], loc='lower right')"
      ],
      "execution_count": 14,
      "outputs": [
        {
          "output_type": "execute_result",
          "data": {
            "text/plain": [
              "<matplotlib.legend.Legend at 0x7f77083c1d90>"
            ]
          },
          "metadata": {
            "tags": []
          },
          "execution_count": 14
        },
        {
          "output_type": "display_data",
          "data": {
            "image/png": "[encoded data removed]",
            "text/plain": [
              "<Figure size 1440x720 with 1 Axes>"
            ]
          },
          "metadata": {
            "tags": [],
            "needs_background": "light"
          }
        }
      ]
    }
  ]
}